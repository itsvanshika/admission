{
 "cells": [
  {
   "cell_type": "code",
   "execution_count": 1,
   "metadata": {},
   "outputs": [
    {
     "name": "stdout",
     "output_type": "stream",
     "text": [
      "Fitting 3 folds for each of 1 candidates, totalling 3 fits\n",
      "Top 10 Predicted Colleges:\n",
      "1. National Institute of Technology Goa\n",
      "2. Indian Institute of Engineering Science and Technology, Shibpur\n",
      "3. Assam University, Silchar\n",
      "4. Indian Institute of Technology Bombay\n",
      "5. National Institute of Technology, Warangal\n",
      "6. Indian Institute of Technology Madras\n",
      "7. Malaviya National Institute of Technology Jaipur\n",
      "8. Indian Institute of Technology Kanpur\n",
      "9. Indian Institute of Technology Delhi\n",
      "10. National Institute of Technology Karnataka, Surathkal\n"
     ]
    }
   ],
   "source": [
    "# Import Libraries\n",
    "import pandas as pd\n",
    "import numpy as np\n",
    "from sklearn.model_selection import train_test_split\n",
    "from sklearn.preprocessing import LabelEncoder, StandardScaler\n",
    "from xgboost import XGBClassifier\n",
    "from sklearn.model_selection import GridSearchCV\n",
    "\n",
    "# Load the Data\n",
    "f1 = pd.read_csv('2022.csv')\n",
    "f2 = pd.read_csv('2021.csv')\n",
    "f3 = pd.read_csv('2020.csv')\n",
    "\n",
    "# Combine Training and Test Data\n",
    "train = pd.concat([f2, f3], ignore_index=True)\n",
    "test = f1\n",
    "\n",
    "# Preprocessing\n",
    "def preprocess_data(df):\n",
    "    df = df.copy()\n",
    "    # Convert Rank columns to numeric\n",
    "    df['Opening Rank'] = pd.to_numeric(df['Opening Rank'], errors='coerce')\n",
    "    df['Closing Rank'] = pd.to_numeric(df['Closing Rank'], errors='coerce')\n",
    "    \n",
    "    # Fill missing values with median\n",
    "    df['Opening Rank'].fillna(df['Opening Rank'].median(), inplace=True)\n",
    "    df['Closing Rank'].fillna(df['Closing Rank'].median(), inplace=True)\n",
    "    \n",
    "    # Encode Categorical Columns\n",
    "    categorical_cols = ['Institute', 'Academic Program Name', 'Quota', 'Seat Type', 'Gender']\n",
    "    encoders = {}\n",
    "    for col in categorical_cols:\n",
    "        encoder = LabelEncoder()\n",
    "        df[col] = encoder.fit_transform(df[col])\n",
    "        encoders[col] = encoder  # Save the encoders for later use\n",
    "    \n",
    "    return df, encoders\n",
    "\n",
    "# Preprocess Train and Test Data\n",
    "train, train_encoders = preprocess_data(train)\n",
    "test, _ = preprocess_data(test)\n",
    "\n",
    "# Split Features and Target\n",
    "X_train = train.drop(columns=['Institute'])\n",
    "y_train = train['Institute']\n",
    "\n",
    "X_test = test.drop(columns=['Institute'])\n",
    "y_test = test['Institute']\n",
    "\n",
    "# Standardize Numerical Features\n",
    "scaler = StandardScaler()\n",
    "X_train_scaled = scaler.fit_transform(X_train)\n",
    "X_test_scaled = scaler.transform(X_test)\n",
    "\n",
    "# Hyperparameter Tuning for XGBoost\n",
    "xgb = XGBClassifier(random_state=42, objective='multi:softprob')  # Use softprob for probabilities\n",
    "param_grid = {\n",
    "    'n_estimators': [100],\n",
    "    'max_depth': [5],\n",
    "    'learning_rate': [0.1],\n",
    "    'subsample': [0.8]\n",
    "}\n",
    "\n",
    "grid_search = GridSearchCV(estimator=xgb, param_grid=param_grid, cv=3, scoring='accuracy', verbose=2, n_jobs=-1)\n",
    "grid_search.fit(X_train_scaled, y_train)\n",
    "\n",
    "# Best Model\n",
    "best_model = grid_search.best_estimator_\n",
    "\n",
    "# Function for Top 10 Predictions\n",
    "def get_top_10_predictions(model, input_data, encoder):\n",
    "    \"\"\"\n",
    "    Returns the top 10 predicted colleges for a given input.\n",
    "    \"\"\"\n",
    "    probabilities = model.predict_proba(input_data)  # Get probabilities\n",
    "    top_10_indices = np.argsort(probabilities, axis=1)[:, -10:]  # Indices of top 10 probabilities\n",
    "    top_10_colleges = encoder.inverse_transform(top_10_indices.flatten())  # Decode indices to college names\n",
    "    return top_10_colleges\n",
    "\n",
    "# Example User Input\n",
    "user_input = pd.DataFrame({\n",
    "    'Academic Program Name': [0],  # Replace with correct encoded values\n",
    "    'Quota': [1],                  # Replace with correct encoded values\n",
    "    'Seat Type': [2],              # Replace with correct encoded values\n",
    "    'Gender': [0],                 # Replace with correct encoded values\n",
    "    'Opening Rank': [5000],\n",
    "    'Closing Rank': [10000],\n",
    "    'Year': [2022],\n",
    "    'Round': [1]\n",
    "})\n",
    "\n",
    "# Preprocess User Input\n",
    "user_input_scaled = scaler.transform(user_input)\n",
    "\n",
    "# Get Top 10 Predictions\n",
    "top_10 = get_top_10_predictions(best_model, user_input_scaled, train_encoders['Institute'])\n",
    "\n",
    "# Display Top 10 Colleges\n",
    "print(\"Top 10 Predicted Colleges:\")\n",
    "for rank, college in enumerate(top_10[::-1], start=1):  # Reverse order for top-down ranking\n",
    "    print(f\"{rank}. {college}\")\n"
   ]
  },
  {
   "cell_type": "code",
   "execution_count": 2,
   "metadata": {},
   "outputs": [
    {
     "data": {
      "text/plain": [
       "['scaler1.pkl']"
      ]
     },
     "execution_count": 2,
     "metadata": {},
     "output_type": "execute_result"
    }
   ],
   "source": [
    "import joblib\n",
    "\n",
    "# Save the trained model and other preprocessing components\n",
    "joblib.dump(best_model, 'admission_prediction_model.pkl')\n",
    "joblib.dump(train_encoders, 'encoders.pkl')\n",
    "joblib.dump(scaler, 'scaler1.pkl')\n"
   ]
  },
  {
   "cell_type": "code",
   "execution_count": 3,
   "metadata": {},
   "outputs": [],
   "source": [
    "# Load the model and preprocessing components\n",
    "model = joblib.load('admission_prediction_model.pkl')\n",
    "encoders = joblib.load('encoders.pkl')\n",
    "scaler = joblib.load('scaler1.pkl')\n"
   ]
  }
 ],
 "metadata": {
  "kernelspec": {
   "display_name": "Python 3",
   "language": "python",
   "name": "python3"
  },
  "language_info": {
   "codemirror_mode": {
    "name": "ipython",
    "version": 3
   },
   "file_extension": ".py",
   "mimetype": "text/x-python",
   "name": "python",
   "nbconvert_exporter": "python",
   "pygments_lexer": "ipython3",
   "version": "3.12.2"
  }
 },
 "nbformat": 4,
 "nbformat_minor": 2
}
